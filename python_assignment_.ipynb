{
 "cells": [
  {
   "cell_type": "markdown",
   "metadata": {
    "id": "l0ZzOlyxB-kf"
   },
   "source": [
    "<h1>Python: without numpy or sklearn </h1>"
   ]
  },
  {
   "cell_type": "markdown",
   "metadata": {
    "id": "C0xO8JV9B-ki"
   },
   "source": [
    "<h3> Q1: Given two matrices please print the product of those two matrices </h3>\n",
    "<pre>\n",
    "\n",
    "Ex 1: A   = [[1 3 4]\n",
    "             [2 5 7]\n",
    "             [5 9 6]]\n",
    "      B   = [[1 0 0]\n",
    "             [0 1 0]\n",
    "             [0 0 1]]\n",
    "      A*B = [[1 3 4]\n",
    "             [2 5 7]\n",
    "             [5 9 6]]\n",
    "\n",
    "     \n",
    "Ex 2: A   = [[1 2]\n",
    "             [3 4]]\n",
    "      B   = [[1 2 3 4 5]\n",
    "             [5 6 7 8 9]]\n",
    "      A*B = [[11 14 17 20 23]\n",
    "             [23 30 36 42 51]]\n",
    "             \n",
    "Ex 3: A   = [[1 2]\n",
    "             [3 4]]\n",
    "      B   = [[1 4]\n",
    "             [5 6]\n",
    "             [7 8]\n",
    "             [9 6]]\n",
    "      A*B =Not possible\n",
    "</pre>"
   ]
  },
  {
   "cell_type": "code",
   "execution_count": 4,
   "metadata": {
    "colab": {
     "base_uri": "https://localhost:8080/"
    },
    "id": "3eISmQ78RJLv",
    "outputId": "c0f11058-ef35-4d6f-e2e9-42c01230f9d1"
   },
   "outputs": [
    {
     "data": {
      "text/plain": [
       "[[1, 3, 4], [2, 5, 7], [5, 9, 6]]"
      ]
     },
     "execution_count": 4,
     "metadata": {},
     "output_type": "execute_result"
    }
   ],
   "source": [
    "[[11, 14, 17, 20, 23], [23, 30, 37, 44, 51]]\n",
    "# write your python code here\n",
    "# you can take the above example as sample input for your program to test\n",
    "# it should work for any general input try not to hard code for only given input examples\n",
    "\n",
    "\n",
    "# you can free to change all these codes/structure\n",
    "# here A and B are list of lists\n",
    "A   = [[1, 3, 4], [2, 5, 7], [5, 9, 6]]\n",
    "\n",
    "B   = [[1, 0, 0], [0, 1, 0], [0, 0, 1]] \n",
    "def matrix_mul(A, B):\n",
    "    return [[sum(i * j for i, j in zip(r, c)) for c in zip(*B)]\n",
    "        for r in A]\n",
    "matrix_mul(A, B)      \n"
   ]
  },
  {
   "cell_type": "code",
   "execution_count": null,
   "metadata": {},
   "outputs": [],
   "source": [
    "A   = [[1, 3, 4], [2, 5, 7], [5, 9, 6]]\n",
    "\n",
    "B   = [[1, 0, 0], [0, 1, 0], [0, 0, 1]] \n",
    "def matrix_mul(A, B):\n",
    "    for r in A:\n",
    "        for c in B:\n",
    "        for j in zip(r,c):\n",
    "            sum += [i*j]\n",
    "            \n",
    "    \n",
    "                \n",
    "        "
   ]
  },
  {
   "cell_type": "code",
   "execution_count": 14,
   "metadata": {
    "colab": {
     "base_uri": "https://localhost:8080/"
    },
    "id": "rnssAfpgB-kj",
    "outputId": "875310b4-7625-41aa-ffc1-5ee2acd6489c"
   },
   "outputs": [
    {
     "data": {
      "text/plain": [
       "[[11, 14, 17, 20, 23], [23, 30, 37, 44, 51]]"
      ]
     },
     "execution_count": 14,
     "metadata": {},
     "output_type": "execute_result"
    }
   ],
   "source": [
    "A = [[1, 2], [3, 4]]\n",
    "B = [[1, 2, 3, 4, 5], [5, 6, 7, 8, 9]]\n",
    "def matrix_mul(A, B):\n",
    "    return [[sum(i * j for i, j in zip(r, c)) for c in zip(*B)]\n",
    "        for r in A]\n",
    "matrix_mul(A, B)"
   ]
  },
  {
   "cell_type": "code",
   "execution_count": null,
   "metadata": {
    "colab": {
     "base_uri": "https://localhost:8080/"
    },
    "id": "4JmoEFrqTtWN",
    "outputId": "f001bd6f-c44e-44a3-8087-9a56b26ebcbf"
   },
   "outputs": [
    {
     "data": {
      "text/plain": [
       "[[11, 16], [23, 36]]"
      ]
     },
     "execution_count": 21,
     "metadata": {},
     "output_type": "execute_result"
    }
   ],
   "source": [
    "A = [[1, 2], [3, 4]]\n",
    "B = [[1, 4], [5, 6], [7, 8], [9, 6]]\n",
    "def matrix_mul(A, B):\n",
    "    return [[sum(i * j for i, j in zip(r, c)) for c in zip(*B)]\n",
    "        for r in A]\n",
    "matrix_mul(A, B)"
   ]
  },
  {
   "cell_type": "markdown",
   "metadata": {
    "id": "at4VwLggB-kn"
   },
   "source": [
    "<h3> Q2: Select a number randomly with probability proportional to its magnitude from the given array of n elements</h3>\n",
    "\n",
    "consider an experiment, selecting an element from the list A randomly with probability proportional to its magnitude.\n",
    "assume we are doing the same experiment for 100 times with replacement, in each experiment you will print a number that is selected randomly from A.\n",
    "\n",
    "<pre>\n",
    "Ex 1: A = [0 5 27 6 13 28 100 45 10 79]\n",
    "let f(x) denote the number of times x getting selected in 100 experiments.\n",
    "f(100) > f(79) > f(45) > f(28) > f(27) > f(13) > f(10) > f(6) > f(5) > f(0)\n",
    "</pre>"
   ]
  },
  {
   "cell_type": "code",
   "execution_count": null,
   "metadata": {
    "colab": {
     "base_uri": "https://localhost:8080/"
    },
    "id": "B6S2dpBhB-kn",
    "outputId": "86f7e2b3-628a-49aa-c29c-d877d86e5584",
    "scrolled": true
   },
   "outputs": [
    {
     "name": "stdout",
     "output_type": "stream",
     "text": [
      "[100]\n",
      "[27]\n",
      "[100]\n",
      "[79]\n",
      "[100]\n",
      "[27]\n",
      "[27]\n",
      "[100]\n",
      "[10]\n",
      "[45]\n",
      "[100]\n",
      "[28]\n",
      "[28]\n",
      "[79]\n",
      "[45]\n",
      "[45]\n",
      "[100]\n",
      "[100]\n",
      "[13]\n",
      "[79]\n",
      "[100]\n",
      "[79]\n",
      "[45]\n",
      "[100]\n",
      "[100]\n",
      "[45]\n",
      "[100]\n",
      "[28]\n",
      "[100]\n",
      "[5]\n",
      "[100]\n",
      "[100]\n",
      "[27]\n",
      "[100]\n",
      "[45]\n",
      "[100]\n",
      "[79]\n",
      "[100]\n",
      "[27]\n",
      "[79]\n",
      "[100]\n",
      "[100]\n",
      "[45]\n",
      "[45]\n",
      "[5]\n",
      "[5]\n",
      "[45]\n",
      "[28]\n",
      "[28]\n",
      "[79]\n",
      "[79]\n",
      "[79]\n",
      "[100]\n",
      "[45]\n",
      "[79]\n",
      "[27]\n",
      "[100]\n",
      "[79]\n",
      "[79]\n",
      "[100]\n",
      "[27]\n",
      "[100]\n",
      "[45]\n",
      "[100]\n",
      "[100]\n",
      "[79]\n",
      "[45]\n",
      "[10]\n",
      "[100]\n",
      "[100]\n",
      "[100]\n",
      "[13]\n",
      "[100]\n",
      "[79]\n",
      "[100]\n",
      "[100]\n",
      "[100]\n",
      "[100]\n",
      "[79]\n",
      "[100]\n",
      "[100]\n",
      "[45]\n",
      "[45]\n",
      "[28]\n",
      "[100]\n",
      "[45]\n",
      "[100]\n",
      "[79]\n",
      "[100]\n",
      "[28]\n",
      "[79]\n",
      "[100]\n",
      "[79]\n",
      "[79]\n",
      "[79]\n",
      "[28]\n",
      "[100]\n",
      "[100]\n",
      "[100]\n"
     ]
    }
   ],
   "source": [
    "from random import uniform\n",
    "import random\n",
    "# write your python code here\n",
    "# you can take the above example as sample input for your program to test\n",
    "# it should work for any general input try not to hard code for only given input examples\n",
    "\n",
    "\n",
    "# you can free to change all these codes/structure\n",
    "A = [0, 5, 27, 6, 13, 28, 100, 45, 10, 79]\n",
    "def pick_a_number_from_list(A):\n",
    "   weights1=[]\n",
    "\n",
    "   for i in A:\n",
    "        weights1.append(i/sum(A))\n",
    "        \n",
    "   selected_random_number = random.choices(A,weights=weights1,k=1)    \n",
    "    \n",
    "   return selected_random_number\n",
    "\n",
    "def sampling_based_on_magnitued():\n",
    "    for i in range(1,100):\n",
    "        number = pick_a_number_from_list(A)\n",
    "        print(number)\n",
    "\n",
    "sampling_based_on_magnitued()"
   ]
  },
  {
   "cell_type": "markdown",
   "metadata": {
    "id": "D1xQy2WWB-kq"
   },
   "source": [
    "<h3> Q3: Replace the digits in the string with #</h3>\n",
    "\n",
    "consider a string that will have digits in that, we need to remove all the not digits and replace the digits with #\n",
    "<pre>\n",
    "Ex 1: A = 234                Output: ###\n",
    "Ex 2: A = a2b3c4             Output: ###\n",
    "Ex 3: A = abc                Output:   (empty string)\n",
    "Ex 5: A = #2a$#b%c%561#      Output: ####\n",
    "</pre>"
   ]
  },
  {
   "cell_type": "code",
   "execution_count": 28,
   "metadata": {
    "colab": {
     "base_uri": "https://localhost:8080/"
    },
    "id": "fxczi2jzB-kr",
    "outputId": "e6657a93-4412-4852-bb21-99a0f104b2cb"
   },
   "outputs": [
    {
     "name": "stdout",
     "output_type": "stream",
     "text": [
      "Input = 234 output = ###\n",
      "Input = a2b3c4 output = ###\n",
      "Input = abc output = \n",
      "Input = #2a$#b%c%561# output = ####\n"
     ]
    }
   ],
   "source": [
    "import re\n",
    "# write your python code here\n",
    "# you can take the above example as sample input for your program to test\n",
    "# it should work for any general input try not to hard code for only given input examples\n",
    "\n",
    "# you can free to change all these codes/structure\n",
    "# String: it will be the input to your program\n",
    "A =  ['234',\n",
    "'a2b3c4',\n",
    "'abc',\n",
    "'#2a$#b%c%561#']\n",
    "for A in A:\n",
    "    new_s = '#' * len(re.sub(r'\\D', '', A))\n",
    "    print('Input = {} output = {}'.format(A,new_s))"
   ]
  },
  {
   "cell_type": "code",
   "execution_count": null,
   "metadata": {},
   "outputs": [],
   "source": []
  },
  {
   "cell_type": "markdown",
   "metadata": {
    "id": "j7h0Ywg7B-kw"
   },
   "source": [
    "# <h3> Q4: Students marks dashboard</h3>\n",
    "\n",
    "consider the marks list of class students given two lists <br>\n",
    "Students = ['student1','student2','student3','student4','student5','student6','student7','student8','student9','student10'] <br>\n",
    "Marks = [45, 78, 12, 14, 48, 43, 45, 98, 35, 80] <br>\n",
    "from the above two lists the Student[0] got Marks[0],  Student[1] got Marks[1] and so on <br><br>\n",
    "your task is to print the name of students\n",
    "<strong>a. Who got top 5 ranks, in the descending order of marks</strong> <br>\n",
    "<strong>b. Who got least 5 ranks, in the increasing order of marks</strong><br>\n",
    "<strong>d. Who got marks between  &gt;25th percentile &lt;75th percentile, in the increasing order of marks</strong>\n",
    "\n",
    "<pre>\n",
    "Ex 1: \n",
    "Students=['student1','student2','student3','student4','student5','student6','student7','student8','student9','student10'] \n",
    "Marks = [45, 78, 12, 14, 48, 43, 47, 98, 35, 80]\n",
    "a. \n",
    "student8  98\n",
    "student10 80\n",
    "student2  78\n",
    "student5  48\n",
    "student7  47\n",
    "b.\n",
    "student3 12\n",
    "student4 14\n",
    "student9 35\n",
    "student6 43\n",
    "student1 45\n",
    "c.\n",
    "student9 35\n",
    "student6 43\n",
    "student1 45\n",
    "student7 47\n",
    "student5 48\n",
    "</pre>"
   ]
  },
  {
   "cell_type": "code",
   "execution_count": 83,
   "metadata": {
    "colab": {
     "base_uri": "https://localhost:8080/"
    },
    "id": "cxPJgItsB-kx",
    "outputId": "112bfe1b-fc99-45fe-b6fe-bf4fa42f5fe9",
    "scrolled": true
   },
   "outputs": [
    {
     "name": "stdout",
     "output_type": "stream",
     "text": [
      "maximum marks\n",
      "98\n",
      "minimum marks\n",
      "12\n",
      "difference\n",
      "86\n",
      "percentile_25\n",
      "21.5\n",
      "percentile_75\n",
      "64.5\n",
      "**********************************\n",
      "top_5_students = A\n",
      "student8: 98\n",
      "student10: 80\n",
      "student2: 78\n",
      "student5: 48\n",
      "student7: 47\n",
      "************************************\n",
      "least_5_students = B\n",
      "student3: 12\n",
      "student4: 14\n",
      "student9: 35\n",
      "student6: 43\n",
      "student1: 45\n",
      "************************************************\n"
     ]
    }
   ],
   "source": [
    "# write your python code here\n",
    "# you can take the above example as sample input for your program to test\n",
    "# it should work for any general input try not to hard code for only given input examples\n",
    "\n",
    "# you can free to change all these codes/structure\n",
    "import numpy as np\n",
    "\n",
    "Students=['student1','student2','student3','student4','student5','student6','student7','student8','student9','student10'] \n",
    "Marks = [45, 78, 12, 14, 48, 43, 47, 98, 35, 80]\n",
    "\n",
    "def display_dash_board(students, marks):\n",
    "    \n",
    "\n",
    "\n",
    "    dictionary = dict(zip(Students,Marks))\n",
    "    \n",
    "    max_mark = max(Marks)\n",
    "    min_mark = min(Marks)\n",
    "    diff = max_mark - min_mark \n",
    "    percentile_25 = diff*0.25 \n",
    "    percentile_75 = diff*0.75\n",
    "    \n",
    "    \n",
    "    \n",
    "    print(\"maximum marks\")\n",
    "    print(max_mark)\n",
    "    print(\"minimum marks\")\n",
    "    print(min_mark )\n",
    "    print(\"difference\")\n",
    "    print(diff)\n",
    "    print(\"percentile_25\")\n",
    "    print(percentile_25)\n",
    "    print(\"percentile_75\")\n",
    "    print(percentile_75)\n",
    "\n",
    "    \n",
    "    \n",
    "    print(\"**********************************\")\n",
    "\n",
    "    print('top_5_students = A')\n",
    "\n",
    "    for key, value in sorted(dictionary.items(), key=lambda item: item[1],reverse=True)[:5]:\n",
    "    \n",
    "          print(\"%s: %s\" % (key, value))\n",
    "        \n",
    "          \n",
    "\n",
    "    print(\"************************************\")\n",
    "\n",
    "\n",
    "    print('least_5_students = B')\n",
    "\n",
    "    for key, value in sorted(dictionary.items(), key=lambda item: item[1])[:5]:\n",
    "          print(\"%s: %s\" % (key, value))\n",
    "        \n",
    "    print(\"************************************************\") \n",
    "    \n",
    "    \n",
    "   \n",
    "    \n",
    "    \n",
    "          \n",
    "            \n",
    "          \n",
    "\n",
    "display_dash_board(Students, Marks)"
   ]
  },
  {
   "cell_type": "code",
   "execution_count": 88,
   "metadata": {},
   "outputs": [],
   "source": [
    "max_mark = max(Marks)\n",
    "min_mark = min(Marks)\n",
    "diff = max_mark - min_mark \n",
    "percentile_25 = diff*0.25 \n",
    "percentile_75 = diff*0.75"
   ]
  },
  {
   "cell_type": "code",
   "execution_count": null,
   "metadata": {},
   "outputs": [],
   "source": []
  },
  {
   "cell_type": "code",
   "execution_count": 91,
   "metadata": {
    "scrolled": true
   },
   "outputs": [
    {
     "data": {
      "text/plain": [
       "{'student9': 35,\n",
       " 'student6': 43,\n",
       " 'student1': 45,\n",
       " 'student7': 47,\n",
       " 'student5': 48}"
      ]
     },
     "execution_count": 91,
     "metadata": {},
     "output_type": "execute_result"
    }
   ],
   "source": [
    "\n",
    "\n",
    "\n",
    "res = {s: m for s, m in sorted(zip(Students, Marks), key=lambda i: i[1]) if m > percentile_25  and m <  percentile_75}\n",
    "res  "
   ]
  },
  {
   "cell_type": "markdown",
   "metadata": {
    "id": "qha0OhQHB-k1"
   },
   "source": [
    "# <h3> Q5: Find the closest points</h3>\n",
    "\n",
    "consider you have given n data points in the form of list of tuples like S=[(x1,y1),(x2,y2),(x3,y3),(x4,y4),(x5,y5),..,(xn,yn)] and a point P=(p,q) <br> your task is to find 5 closest points(based on cosine distance) in S from P\n",
    "<br>cosine distance between two points (x,y) and (p,q) is defind as $cos^{-1}(\\frac{(x\\cdot p+y\\cdot q)}{\\sqrt(x^2+y^2)\\cdot\\sqrt(p^2+q^2)})$\n",
    "<pre>\n",
    "Ex:\n",
    "\n",
    "S= [(1,2),(3,4),(-1,1),(6,-7),(0, 6),(-5,-8),(-1,-1)(6,0),(1,-1)]\n",
    "P= (3,-4)\n",
    "<img src='https://i.imgur.com/vIFPOcG.jpg', width=300>\n",
    "Output:\n",
    "(6,-7)\n",
    "(1,-1)\n",
    "(6,0)\n",
    "(-5,-8)\n",
    "(-1,-1)\n",
    "</pre>"
   ]
  },
  {
   "cell_type": "code",
   "execution_count": 12,
   "metadata": {
    "id": "qxDjy3aqCeio"
   },
   "outputs": [
    {
     "name": "stdout",
     "output_type": "stream",
     "text": [
      "(6, -7): 0.06512516333438509\n"
     ]
    }
   ],
   "source": [
    "points = [(1, 2), (3, 4), (-1, 1), (6, -7), (0, 6), (-5, -8), (-1, -1), (6, 0), (1, -1)]\n",
    "points.sort()\n",
    "print(points)"
   ]
  },
  {
   "cell_type": "code",
   "execution_count": 11,
   "metadata": {},
   "outputs": [
    {
     "name": "stdout",
     "output_type": "stream",
     "text": [
      "(6, -7): 0.06512516333438509\n",
      "(1, -1): 0.14189705460416438\n",
      "(6, 0): 0.9272952180016123\n",
      "(-5, -8): 1.2021004241368467\n",
      "(-1, -1): 1.4288992721907328\n"
     ]
    }
   ],
   "source": [
    " points = [(1, 2), (3, 4), (-1, 1), (6, -7), (0, 6), (-5, -8), (-1, -1), (6, 0), (1, -1)]\n",
    "query = (3,-4)\n",
    "dist = []\n",
    "for point in points:\n",
    "    numerator = (point[0]*query[0])+point[1]*query[1]\n",
    "    denomerator = ((point[0]**2+point[1]**2)**0.5)*((query[0]**2+query[1]**2)**0.5)\n",
    "    dist.append(math.acos(numerator/denomerator))\n",
    "dictionary = dict(zip(points,dist))\n",
    "for key, value in sorted(dictionary.items(), key=lambda item: item[1], reverse=False)[:5]:\n",
    "\n",
    "   print(\"%s: %s\" % (key, value))    "
   ]
  },
  {
   "cell_type": "code",
   "execution_count": 4,
   "metadata": {},
   "outputs": [
    {
     "name": "stdout",
     "output_type": "stream",
     "text": [
      "(-1, 1): 2.9996955989856287\n",
      "(0, 6): 2.498091544796509\n",
      "(1, 2): 2.0344439357957027\n",
      "(3, 4): 1.8545904360032246\n",
      "(-1, -1): 1.4288992721907328\n",
      "(-5, -8): 1.2021004241368467\n",
      "(6, 0): 0.9272952180016123\n",
      "(1, -1): 0.14189705460416438\n",
      "(6, -7): 0.06512516333438509\n"
     ]
    }
   ],
   "source": [
    "points = [(1, 2), (3, 4), (-1, 1), (6, -7), (0, 6), (-5, -8), (-1, -1), (6, 0), (1, -1)]\n",
    "query = (3,-4)\n",
    "dist = []\n",
    "for point in points:\n",
    "    numerator = (point[0]*query[0])+point[1]*query[1]\n",
    "    denomerator = ((point[0]**2+point[1]**2)**0.5)*((query[0]**2+query[1]**2)**0.5)\n",
    "    dist.append(math.acos(numerator/denomerator))\n",
    "dictionary = dict(zip(points,dist))\n",
    "for key, value in sorted(dictionary.items(), key=lambda item: item[1], reverse=True):\n",
    "\n",
    "   print(\"%s: %s\" % (key, value))    "
   ]
  },
  {
   "cell_type": "code",
   "execution_count": 5,
   "metadata": {
    "colab": {
     "base_uri": "https://localhost:8080/"
    },
    "id": "wA5I1g-2B-k2",
    "outputId": "f962a34a-13b9-4590-ca07-6a6a74ce28a8"
   },
   "outputs": [
    {
     "name": "stdout",
     "output_type": "stream",
     "text": [
      "3\n",
      "8\n",
      "7\n",
      "5\n",
      "6\n"
     ]
    }
   ],
   "source": [
    "closest_points = [i[0] for i in sorted(enumerate(dist), key = lambda x:x[1])][:5]\n",
    "for i in closest_points:\n",
    "    print(i)"
   ]
  },
  {
   "cell_type": "code",
   "execution_count": null,
   "metadata": {},
   "outputs": [],
   "source": []
  },
  {
   "cell_type": "code",
   "execution_count": null,
   "metadata": {},
   "outputs": [],
   "source": []
  },
  {
   "cell_type": "code",
   "execution_count": null,
   "metadata": {},
   "outputs": [],
   "source": []
  },
  {
   "cell_type": "code",
   "execution_count": null,
   "metadata": {},
   "outputs": [],
   "source": []
  },
  {
   "cell_type": "code",
   "execution_count": null,
   "metadata": {},
   "outputs": [],
   "source": []
  },
  {
   "cell_type": "markdown",
   "metadata": {
    "id": "-g11jeAiB-k5"
   },
   "source": [
    "<h3> Q6: Find Which line separates oranges and apples</h3>\n",
    "consider you have given two set of data points in the form of list of tuples like \n",
    "<pre>\n",
    "Red =[(R11,R12),(R21,R22),(R31,R32),(R41,R42),(R51,R52),..,(Rn1,Rn2)]\n",
    "Blue=[(B11,B12),(B21,B22),(B31,B32),(B41,B42),(B51,B52),..,(Bm1,Bm2)]\n",
    "</pre>\n",
    "and set of line equations(in the string formate, i.e list of strings)\n",
    "<pre>\n",
    "Lines = [a1x+b1y+c1,a2x+b2y+c2,a3x+b3y+c3,a4x+b4y+c4,..,K lines]\n",
    "Note: you need to string parsing here and get the coefficients of x,y and intercept\n",
    "</pre>\n",
    "your task is to for each line that is given print \"YES\"/\"NO\", you will print yes, if all the red points are one side of the line and blue points are other side of the line, otherwise no\n",
    "<pre>\n",
    "Ex:\n",
    "Red= [(1,1),(2,1),(4,2),(2,4), (-1,4)]\n",
    "Blue= [(-2,-1),(-1,-2),(-3,-2),(-3,-1),(1,-3)]\n",
    "Lines=[\"1x+1y+0\",\"1x-1y+0\",\"1x+0y-3\",\"0x+1y-0.5\"]\n",
    "<img src='https://i.imgur.com/DoQf7mE.jpg' width=400>\n",
    "Output:\n",
    "YES\n",
    "NO\n",
    "NO\n",
    "YES\n",
    "</pre>"
   ]
  },
  {
   "cell_type": "code",
   "execution_count": null,
   "metadata": {
    "colab": {
     "base_uri": "https://localhost:8080/"
    },
    "id": "eRxExaTRB-k6",
    "outputId": "8919eba8-40b0-43d0-c2c6-5964a662f45f"
   },
   "outputs": [
    {
     "name": "stdout",
     "output_type": "stream",
     "text": [
      "Yes\n",
      "NO\n",
      "NO\n",
      "Yes\n"
     ]
    }
   ],
   "source": [
    "import math\n",
    "# write your python code here\n",
    "# you can take the above example as sample input for your program to test\n",
    "# it should work for any general input try not to hard code for only given input strings\n",
    "\n",
    "\n",
    "# you can free to change all these codes/structure\n",
    "def i_am_the_one(red,blue,line):\n",
    "  for i in red:\n",
    "        eq=line.replace('x','*'+str(i[0]))\n",
    "        eq=eq.replace('y','*'+str(i[1]))\n",
    "        answer=eval(eq)\n",
    "        if answer>0:\n",
    "            pass\n",
    "        else:\n",
    "            return \"NO\"\n",
    "        \n",
    "    # Code for Blue\n",
    "  for j in blue:\n",
    "\n",
    "        eq1=line.replace('x','*'+str(j[0]))\n",
    "        eq1=eq1.replace('y','*'+str(j[1]))\n",
    "        answer1=eval(eq1)\n",
    "        if answer1<0:\n",
    "            pass\n",
    "        else:\n",
    "            return \"NO\"\n",
    "  return \"Yes\"\n",
    "    \n",
    "  \n",
    "Red= [(1,1),(2,1),(4,2),(2,4), (-1,4)]\n",
    "Blue= [(-2,-1),(-1,-2),(-3,-2),(-3,-1),(1,-3)]\n",
    "Lines=[\"1x+1y+0\",\"1x-1y+0\",\"1x+0y-3\",\"0x+1y-0.5\"]\n",
    "\n",
    "for i in Lines:\n",
    "    yes_or_no = i_am_the_one(Red, Blue, i)\n",
    "    print(yes_or_no)"
   ]
  },
  {
   "cell_type": "markdown",
   "metadata": {
    "id": "9OBpURbNB-k9"
   },
   "source": [
    "<h3> Q7: Filling the missing values in the specified formate</h3>\n",
    "You will be given a string with digits and '\\_'(missing value) symbols you have to replace the '\\_' symbols as explained \n",
    "<pre>\n",
    "Ex 1: _, _, _, 24 ==> 24/4, 24/4, 24/4, 24/4 i.e we. have distributed the 24 equally to all 4 places <br>\n",
    "Ex 2: 40, _, _, _, 60 ==> (60+40)/5,(60+40)/5,(60+40)/5,(60+40)/5,(60+40)/5 ==> 20, 20, 20, 20, 20 i.e. the sum of (60+40) is distributed qually to all 5 places<br>\n",
    "Ex 3: 80, _, _, _, _  ==> 80/5,80/5,80/5,80/5,80/5 ==> 16, 16, 16, 16, 16 i.e. the 80 is distributed qually to all 5 missing values that are right to it<br>\n",
    "Ex 4: _, _, 30, _, _, _, 50, _, _  \n",
    "==> we will fill the missing values from left to right \n",
    "    a. first we will distribute the 30 to left two missing values (10, 10, 10, _, _, _, 50, _, _)\n",
    "    b. now distribute the sum (10+50) missing values in between (10, 10, 12, 12, 12, 12, 12, _, _) \n",
    "    c. now we will distribute 12 to right side missing values (10, 10, 12, 12, 12, 12, 4, 4, 4)\n",
    "</pre>\n",
    "for a given string with comma seprate values, which will have both missing values numbers like ex: \"_, _, x, _, _, _\"\n",
    "you need fill the missing values\n",
    "\n",
    "Q: your program reads a string like ex: \"_, _, x, _, _, _\" and returns the filled sequence\n",
    "\n",
    "Ex: \n",
    "<pre>\n",
    "Input1: \"_,_,_,24\"\n",
    "Output1: 6,6,6,6\n",
    "\n",
    "Input2: \"40,_,_,_,60\"\n",
    "Output2: 20,20,20,20,20\n",
    "\n",
    "Input3: \"80,_,_,_,_\"\n",
    "Output3: 16,16,16,16,16\n",
    "\n",
    "Input4: \"_,_,30,_,_,_,50,_,_\"\n",
    "Output4: 10,10,12,12,12,12,4,4,4\n",
    "</pre>\n",
    "\n"
   ]
  },
  {
   "cell_type": "code",
   "execution_count": null,
   "metadata": {
    "colab": {
     "base_uri": "https://localhost:8080/"
    },
    "id": "nZmpzHs_B-k-",
    "outputId": "3b976469-e95d-48ff-ac6a-ea713f2b5628"
   },
   "outputs": [
    {
     "name": "stdout",
     "output_type": "stream",
     "text": [
      "Input: _,_,30,_,_,_,50,_,_\n",
      "8,8,30,8,8,8,50,8,8\n"
     ]
    }
   ],
   "source": [
    "# write your python code here\n",
    "# you can take the above example as sample input for your program to test\n",
    "# it should work for any general input try not to hard code for only given input strings\n",
    "\n",
    "\n",
    "# you can free to change all these codes/structure\n",
    "def curve_smoothing(string):\n",
    "    blank_count=0\n",
    "    value_count = 0\n",
    "    splitString = string.split(\",\")\n",
    "    print(\"Input:\",string)\n",
    "    #print(string)\n",
    "    totalNumbers = len(splitString)\n",
    "    for i in splitString:\n",
    "        if i==\"_\":\n",
    "            blank_count+=1\n",
    "        else:\n",
    "            value_count=int(i)+int(value_count)\n",
    "    sequenceNumber = int(value_count/totalNumbers)\n",
    "    if(blank_count!=0):\n",
    "        output = string.replace(\"_\",str(sequenceNumber),blank_count)\n",
    "        print(output)\n",
    "\n",
    "    \n",
    "\n",
    "S=  \"_,_,30,_,_,_,50,_,_\"\n",
    "\n",
    "\n",
    "smoothed_values= curve_smoothing(S)\n",
    "       "
   ]
  },
  {
   "cell_type": "code",
   "execution_count": null,
   "metadata": {
    "colab": {
     "base_uri": "https://localhost:8080/"
    },
    "id": "7SxgpArERHiJ",
    "outputId": "15b1b6ea-88dc-4acf-9358-e4f9b3a6ff9b"
   },
   "outputs": [
    {
     "name": "stdout",
     "output_type": "stream",
     "text": [
      "Input: _,_,_,24\n",
      "6,6,6,24\n"
     ]
    }
   ],
   "source": [
    "def curve_smoothing(string):\n",
    "    blank_count=0\n",
    "    value_count = 0\n",
    "    splitString = string.split(\",\")\n",
    "    print(\"Input:\",string)\n",
    "    #print(string)\n",
    "    totalNumbers = len(splitString)\n",
    "    for i in splitString:\n",
    "        if i==\"_\":\n",
    "            blank_count+=1\n",
    "        else:\n",
    "            value_count=int(i)+int(value_count)\n",
    "    sequenceNumber = int(value_count/totalNumbers)\n",
    "    if(blank_count!=0):\n",
    "        output = string.replace(\"_\",str(sequenceNumber),blank_count)\n",
    "        print(output)\n",
    "S= \"_,_,_,24\"\n",
    "smoothed_values= curve_smoothing(S)\n"
   ]
  },
  {
   "cell_type": "code",
   "execution_count": null,
   "metadata": {
    "colab": {
     "base_uri": "https://localhost:8080/"
    },
    "id": "YT7wcrf7R0QV",
    "outputId": "613aabfc-a616-4c3a-f2fd-03f9e2486403"
   },
   "outputs": [
    {
     "name": "stdout",
     "output_type": "stream",
     "text": [
      "Input: 40,_,_,_,60\n",
      "40,20,20,20,60\n"
     ]
    }
   ],
   "source": [
    "def curve_smoothing(string):\n",
    "    blank_count=0\n",
    "    value_count = 0\n",
    "    splitString = string.split(\",\")\n",
    "    print(\"Input:\",string)\n",
    "    #print(string)\n",
    "    totalNumbers = len(splitString)\n",
    "    for i in splitString:\n",
    "        if i==\"_\":\n",
    "            blank_count+=1\n",
    "        else:\n",
    "            value_count=int(i)+int(value_count)\n",
    "    sequenceNumber = int(value_count/totalNumbers)\n",
    "    if(blank_count!=0):\n",
    "        output = string.replace(\"_\",str(sequenceNumber),blank_count)\n",
    "        print(output)\n",
    "S= \"40,_,_,_,60\"\n",
    "smoothed_values= curve_smoothing(S)\n"
   ]
  },
  {
   "cell_type": "code",
   "execution_count": null,
   "metadata": {
    "colab": {
     "base_uri": "https://localhost:8080/"
    },
    "id": "x50mg7fTRm13",
    "outputId": "194f5e3d-3f9d-4ee3-bbf7-b918d11c3ce1"
   },
   "outputs": [
    {
     "name": "stdout",
     "output_type": "stream",
     "text": [
      "Input: 80,_,_,_,_\n",
      "80,16,16,16,16\n"
     ]
    }
   ],
   "source": [
    "def curve_smoothing(string):\n",
    "    blank_count=0\n",
    "    value_count = 0\n",
    "    splitString = string.split(\",\")\n",
    "    print(\"Input:\",string)\n",
    "    #print(string)\n",
    "    totalNumbers = len(splitString)\n",
    "    for i in splitString:\n",
    "        if i==\"_\":\n",
    "            blank_count+=1\n",
    "        else:\n",
    "            value_count=int(i)+int(value_count)\n",
    "    sequenceNumber = int(value_count/totalNumbers)\n",
    "    if(blank_count!=0):\n",
    "        output = string.replace(\"_\",str(sequenceNumber),blank_count)\n",
    "        print(output)\n",
    "S= \"80,_,_,_,_\"\n",
    "smoothed_values= curve_smoothing(S)\n"
   ]
  },
  {
   "cell_type": "markdown",
   "metadata": {
    "id": "RBz4pzlfB-lB"
   },
   "source": [
    "<h3> Q8: Filling the missing values in the specified formate</h3>\n",
    "You will be given a list of lists, each sublist will be of length 2 i.e. [[x,y],[p,q],[l,m]..[r,s]]\n",
    "consider its like a martrix of n rows and two columns\n",
    "1. the first column F will contain only 5 uniques values (F1, F2, F3, F4, F5)\n",
    "2. the second column S will contain only 3 uniques values (S1, S2, S3)\n",
    "<pre>\n",
    "your task is to find\n",
    "a. Probability of P(F=F1|S==S1), P(F=F1|S==S2), P(F=F1|S==S3)\n",
    "b. Probability of P(F=F2|S==S1), P(F=F2|S==S2), P(F=F2|S==S3)\n",
    "c. Probability of P(F=F3|S==S1), P(F=F3|S==S2), P(F=F3|S==S3)\n",
    "d. Probability of P(F=F4|S==S1), P(F=F4|S==S2), P(F=F4|S==S3)\n",
    "e. Probability of P(F=F5|S==S1), P(F=F5|S==S2), P(F=F5|S==S3)\n",
    "</pre>\n",
    "Ex:\n",
    "\n",
    "<pre>\n",
    "[[F1,S1],[F2,S2],[F3,S3],[F1,S2],[F2,S3],[F3,S2],[F2,S1],[F4,S1],[F4,S3],[F5,S1]]\n",
    "\n",
    "a. P(F=F1|S==S1)=1/4, P(F=F1|S==S2)=1/3, P(F=F1|S==S3)=0/3\n",
    "b. P(F=F2|S==S1)=1/4, P(F=F2|S==S2)=1/3, P(F=F2|S==S3)=1/3\n",
    "c. P(F=F3|S==S1)=0/4, P(F=F3|S==S2)=1/3, P(F=F3|S==S3)=1/3\n",
    "d. P(F=F4|S==S1)=1/4, P(F=F4|S==S2)=0/3, P(F=F4|S==S3)=1/3\n",
    "e. P(F=F5|S==S1)=1/4, P(F=F5|S==S2)=0/3, P(F=F5|S==S3)=0/3\n",
    "</pre>\n",
    "\n",
    "\n"
   ]
  },
  {
   "cell_type": "code",
   "execution_count": 27,
   "metadata": {
    "colab": {
     "base_uri": "https://localhost:8080/"
    },
    "id": "e-1giz1MB-lC",
    "outputId": "bdf3ce1f-f321-441c-eb71-73338624d8fb"
   },
   "outputs": [
    {
     "name": "stdout",
     "output_type": "stream",
     "text": [
      "Probability of P(F=F1|S==S1) 0.3333333333333333\n"
     ]
    }
   ],
   "source": [
    "# write your python code here\n",
    "# you can take the above example as sample input for your program to test\n",
    "# it should work for any general input try not to hard code for only given input strings\n",
    "\n",
    "\n",
    "\n",
    "# you can free to change all these codes/structure\n",
    "A = [['F1', 'S1'], ['F2', 'S2'], ['F3', 'S3'], ['F1', 'S2'], ['F2', 'S3'], ['F3', 'S2'], ['F2', 'S1'], ['F4', 'S1'], ['F4', 'S3'], ['F5', 'S1']]\n",
    "\n",
    "dictionary1 = {\n",
    "'F1S1': 0,\n",
    "'F2S1': 0,\n",
    "'F3S1': 0,\n",
    "'F4S1': 0,\n",
    "'F5S1': 0,\n",
    "'F1S2': 0,\n",
    "'F2S2': 0,\n",
    "'F3S2': 0,\n",
    "'F4S2': 0,\n",
    "'F5S2': 0,\n",
    "'F1S3': 0,\n",
    "'F2S3': 0,\n",
    "'F3S3': 0,\n",
    "'F4S3': 0,\n",
    "'F5S3': 0,\n",
    "}\n",
    "\n",
    "dictionary2 = {\n",
    "'S1': 0,\n",
    "'S2': 0,\n",
    "'S3': 0\n",
    "}\n",
    "\n",
    "\n",
    "def compute_conditional_probabilites(A):\n",
    "    for i in range(len(A)):\n",
    "       k = A[i][0] + A[i][1]\n",
    "       dictionary1[k] += 1\n",
    "       dictionary2[A[i][1]] += 1\n",
    "\n",
    "compute_conditional_probabilites(A)\n",
    "print('Probability of P(F=F1|S==S1)', (dictionary1['F4S3']/dictionary2['S3']))"
   ]
  },
  {
   "cell_type": "markdown",
   "metadata": {
    "id": "n4HS87QmB-lF"
   },
   "source": [
    "<h3> Q9: Given two sentances S1, S2</h3>\n",
    "You will be given two sentances S1, S2 your task is to find \n",
    "<pre>\n",
    "a. Number of common words between S1, S2\n",
    "b. Words in S1 but not in S2\n",
    "c. Words in S2 but not in S1\n",
    "</pre>\n",
    "\n",
    "Ex: \n",
    "<pre>\n",
    "S1= \"the first column F will contain only 5 uniques values\"\n",
    "S2= \"the second column S will contain only 3 uniques values\"\n",
    "Output:\n",
    "a. 7\n",
    "b. ['first','F','5']\n",
    "c. ['second','S','3']\n",
    "</pre>"
   ]
  },
  {
   "cell_type": "code",
   "execution_count": 22,
   "metadata": {
    "colab": {
     "base_uri": "https://localhost:8080/"
    },
    "id": "Ez7hlHK0B-lG",
    "outputId": "47f0a9c3-68a4-44a8-ab9d-b6dfbb98e2a3"
   },
   "outputs": [
    {
     "name": "stdout",
     "output_type": "stream",
     "text": [
      "a. 7\n"
     ]
    }
   ],
   "source": [
    "# write your python code here\n",
    "# you can take the above example as sample input for your program to test\n",
    "# it should work for any general input try not to hard code for only given input strings\n",
    "\n",
    "# you can free to change all these codes/structure\n",
    "def string_features(S1, S2):\n",
    "      \n",
    "      S1 = S1.split(\" \")\n",
    "      S2 = S2.split(\" \")\n",
    "      return len(list(set(S1)&set(S2)))\n",
    "\n",
    "S1= \"the first column F will contain only 5 uniques values\"\n",
    "S2= \"the second column S will contain only 3 uniques values\"\n",
    "a = string_features(S1,S2)\n",
    "print(\"a.\",a)\n",
    "\n"
   ]
  },
  {
   "cell_type": "code",
   "execution_count": 26,
   "metadata": {
    "colab": {
     "base_uri": "https://localhost:8080/"
    },
    "id": "bWdrL9ExUcH4",
    "outputId": "3457d78e-8e64-46f7-e943-73717f7694c0"
   },
   "outputs": [
    {
     "name": "stdout",
     "output_type": "stream",
     "text": [
      "b,c. ['first', 'F', '5', 'second', 'S', '3']\n"
     ]
    }
   ],
   "source": [
    "def string_features(S1, S2):\n",
    "   # count\n",
    "   count = {}\n",
    "   # insert in S1\n",
    "   for word in S1.split():\n",
    "      count[word] = count.get(word, 0) + 1\n",
    "   # insert in S2\n",
    "   for word in S2.split():\n",
    "      count[word] = count.get(word, 0) + 1\n",
    "   # return ans\n",
    "   return [word for word in count if count[word] == 1]\n",
    "# main\n",
    "S1= \"the first column F will contain only 5 uniques values\"\n",
    "S2= \"the second column S will contain only 3 uniques values\"\n",
    "\n",
    "print(\"b,c.\",string_features(S1, S2))\n"
   ]
  },
  {
   "cell_type": "markdown",
   "metadata": {
    "id": "XefXVEjCB-lI"
   },
   "source": [
    "<h3> Q10: Given two sentances S1, S2</h3>\n",
    "You will be given a list of lists, each sublist will be of length 2 i.e. [[x,y],[p,q],[l,m]..[r,s]]\n",
    "consider its like a martrix of n rows and two columns\n",
    "\n",
    "a. the first column Y will contain interger values <br>\n",
    "b. the second column $Y_{score}$ will be having float values <br>\n",
    "Your task is to find the value of $f(Y,Y_{score}) = -1*\\frac{1}{n}\\Sigma_{for each Y,Y_{score} pair}(Ylog10(Y_{score})+(1-Y)log10(1-Y_{score}))$ here n is the number of rows in the matrix\n",
    "<pre>\n",
    "Ex:\n",
    "[[1, 0.4], [0, 0.5], [0, 0.9], [0, 0.3], [0, 0.6], [1, 0.1], [1, 0.9], [1, 0.8]]\n",
    "output:\n",
    "0.4243099\n",
    "</pre>\n",
    "$\\frac{-1}{8}\\cdot((1\\cdot log_{10}(0.4)+0\\cdot log_{10}(0.6))+(0\\cdot log_{10}(0.5)+1\\cdot log_{10}(0.5)) + ... + (1\\cdot log_{10}(0.8)+0\\cdot log_{10}(0.2)) )$"
   ]
  },
  {
   "cell_type": "code",
   "execution_count": 97,
   "metadata": {},
   "outputs": [],
   "source": [
    "def logloss(S):\n",
    "    temp = []\n",
    "    total = 0\n",
    "    for x,y in A:\n",
    "        temp.append(sum([int(x)*math.log10(float(y))+ (1-int(x))*math.log10(1-float(y))]))\n",
    "        total = sum(temp)\n",
    "        log = (-1/8)*total\n",
    "    \n",
    "    return log\n",
    "    \n",
    "    \n",
    "    \n",
    "    "
   ]
  },
  {
   "cell_type": "code",
   "execution_count": 98,
   "metadata": {},
   "outputs": [
    {
     "name": "stdout",
     "output_type": "stream",
     "text": [
      "0.42430993457031635\n"
     ]
    }
   ],
   "source": [
    "A = [[1, 0.4], [0, 0.5], [0, 0.9], [0, 0.3], [0, 0.6], [1, 0.1], [1, 0.9], [1, 0.8]]\n",
    "print(logloss(A))"
   ]
  },
  {
   "cell_type": "code",
   "execution_count": 66,
   "metadata": {
    "colab": {
     "base_uri": "https://localhost:8080/"
    },
    "id": "N9zkagyNB-lJ",
    "outputId": "f9bbd5f1-1a9e-4c69-d633-84f18c2af874"
   },
   "outputs": [],
   "source": []
  },
  {
   "cell_type": "code",
   "execution_count": null,
   "metadata": {
    "scrolled": true
   },
   "outputs": [],
   "source": []
  },
  {
   "cell_type": "code",
   "execution_count": null,
   "metadata": {},
   "outputs": [],
   "source": []
  },
  {
   "cell_type": "code",
   "execution_count": null,
   "metadata": {},
   "outputs": [],
   "source": []
  }
 ],
 "metadata": {
  "colab": {
   "collapsed_sections": [],
   "name": "Copy of 1.Python Assignment.ipynb",
   "provenance": []
  },
  "kernelspec": {
   "display_name": "Python 3",
   "language": "python",
   "name": "python3"
  },
  "language_info": {
   "codemirror_mode": {
    "name": "ipython",
    "version": 3
   },
   "file_extension": ".py",
   "mimetype": "text/x-python",
   "name": "python",
   "nbconvert_exporter": "python",
   "pygments_lexer": "ipython3",
   "version": "3.8.8"
  }
 },
 "nbformat": 4,
 "nbformat_minor": 1
}
